{
 "cells": [
  {
   "cell_type": "code",
   "execution_count": 1,
   "metadata": {},
   "outputs": [],
   "source": [
    "from selenium import webdriver\n",
    "from selenium.webdriver.common.by import By\n",
    "from selenium.webdriver import ActionChains\n",
    "from chromedriver_autoinstaller import install\n",
    "import time\n",
    "import requests as rq\n",
    "import cv2,os\n",
    "import matplotlib.pyplot as plt\n",
    "import numpy as np\n",
    "from selenium.common.exceptions import WebDriverException\n",
    "from selenium.webdriver.chrome.service import Service\n",
    "from PIL import Image\n",
    "from io import BytesIO"
   ]
  },
  {
   "cell_type": "code",
   "execution_count": 2,
   "metadata": {},
   "outputs": [
    {
     "data": {
      "text/plain": [
       "'c:\\\\Users\\\\ASUS\\\\AppData\\\\Local\\\\Programs\\\\Python\\\\Python38\\\\lib\\\\site-packages\\\\chromedriver_autoinstaller\\\\107\\\\chromedriver.exe'"
      ]
     },
     "execution_count": 2,
     "metadata": {},
     "output_type": "execute_result"
    }
   ],
   "source": [
    "install()"
   ]
  },
  {
   "cell_type": "code",
   "execution_count": 3,
   "metadata": {},
   "outputs": [],
   "source": [
    "driver = webdriver.Chrome()\n",
    "driver.get('https://www.gettyimages.com/photos/portrait-art-18th-century')"
   ]
  },
  {
   "cell_type": "code",
   "execution_count": 29,
   "metadata": {},
   "outputs": [],
   "source": [
    "src = []\n",
    "for x in range(3):\n",
    "    try:\n",
    "        [src.append(i.get_attribute('src')) for i in driver.find_elements(By.CLASS_NAME,'MosaicAsset-module__thumb___yvFP5')]\n",
    "        driver.find_element('xpath','/html/body/div[2]/section/div/main/div/div/div[4]/div[2]/section/button[2]/div').click()\n",
    "        time.sleep(3)\n",
    "    except WebDriverException:\n",
    "        pass\n",
    "        "
   ]
  },
  {
   "cell_type": "code",
   "execution_count": 5,
   "metadata": {},
   "outputs": [],
   "source": [
    "href = []\n",
    "for x in range(35):\n",
    "    try:\n",
    "        [href.append(i.get_attribute('href')) for i in driver.find_elements(By.CLASS_NAME,'MosaicAsset-module__link___wwW2J')]\n",
    "        driver.find_element('xpath','/html/body/div[2]/section/div/main/div/div/div[4]/div[2]/section/button[2]/div').click()\n",
    "        time.sleep(3)\n",
    "    except WebDriverException:\n",
    "        pass"
   ]
  },
  {
   "cell_type": "code",
   "execution_count": 6,
   "metadata": {},
   "outputs": [],
   "source": [
    "src = []\n",
    "for i in href[839:]:\n",
    "    try:\n",
    "        driver1 = webdriver.Chrome()\n",
    "        driver1.get(i)\n",
    "        \n",
    "        driver1.find_element(By.CLASS_NAME,'AssetCard-module__imageWrapper___AIPZI').click()\n",
    "        time.sleep(1)\n",
    "        src.append(driver1.find_element(By.CLASS_NAME,'ZoomImageCard-module__image___HQiD3').get_attribute('src')\n",
    ")\n",
    "        driver1.quit()\n",
    "    except WebDriverException :\n",
    "        pass\n",
    "    "
   ]
  },
  {
   "cell_type": "code",
   "execution_count": 7,
   "metadata": {},
   "outputs": [
    {
     "data": {
      "text/plain": [
       "1241"
      ]
     },
     "execution_count": 7,
     "metadata": {},
     "output_type": "execute_result"
    }
   ],
   "source": [
    "len(src)"
   ]
  },
  {
   "cell_type": "code",
   "execution_count": 23,
   "metadata": {},
   "outputs": [
    {
     "data": {
      "text/plain": [
       "'https://media.gettyimages.com/id/1150315606/vector/frederick-the-great-king-of-prussia-portrait-1786.jpg?s=2048x2048&w=gi&k=20&c=xujN7MHxOgK4xQosKR8oPIVnA393yLbjCCfhP-nw1k8='"
      ]
     },
     "execution_count": 23,
     "metadata": {},
     "output_type": "execute_result"
    }
   ],
   "source": [
    "with open('src.txt','r') as f:\n",
    "    a = f.readlines()"
   ]
  },
  {
   "cell_type": "code",
   "execution_count": 8,
   "metadata": {},
   "outputs": [],
   "source": [
    "for i in range(len(src)):\n",
    "    img = rq.get(src[i])\n",
    "    with open(f'img/{i+840}.png','wb') as f:\n",
    "        f.write(img.content)"
   ]
  },
  {
   "cell_type": "code",
   "execution_count": 27,
   "metadata": {},
   "outputs": [],
   "source": [
    "for i in range(len(a)):\n",
    "    img = rq.get(str(a[i][:-1]))\n",
    "    with open(f'img/{i}.png','wb') as f:\n",
    "        f.write(img.content)"
   ]
  },
  {
   "cell_type": "code",
   "execution_count": null,
   "metadata": {},
   "outputs": [],
   "source": []
  }
 ],
 "metadata": {
  "kernelspec": {
   "display_name": "Python 3.8.3 64-bit",
   "language": "python",
   "name": "python3"
  },
  "language_info": {
   "codemirror_mode": {
    "name": "ipython",
    "version": 3
   },
   "file_extension": ".py",
   "mimetype": "text/x-python",
   "name": "python",
   "nbconvert_exporter": "python",
   "pygments_lexer": "ipython3",
   "version": "3.8.3"
  },
  "orig_nbformat": 4,
  "vscode": {
   "interpreter": {
    "hash": "ff0d91300876931207232d01add3156fa7c8214350996c757a3c6cebc4b3b5d5"
   }
  }
 },
 "nbformat": 4,
 "nbformat_minor": 2
}
